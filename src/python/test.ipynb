{
 "cells": [
  {
   "cell_type": "code",
   "execution_count": null,
   "id": "dec70367",
   "metadata": {},
   "outputs": [],
   "source": [
    "import requests\n",
    "from bs4 import BeautifulSoup\n",
    "import re"
   ]
  },
  {
   "cell_type": "code",
   "execution_count": null,
   "id": "12c04a43",
   "metadata": {},
   "outputs": [],
   "source": [
    "request_urls = {\"naughtydog\":\"https://www.naughtydog.com/research\",\"frostbite\":\"https://www.ea.com/frostbite/news#publications\",\"seed\":\"https://www.ea.com/seed\"}"
   ]
  }
 ],
 "metadata": {
  "language_info": {
   "name": "python"
  }
 },
 "nbformat": 4,
 "nbformat_minor": 5
}
